{
 "cells": [
  {
   "cell_type": "code",
   "execution_count": 1,
   "metadata": {},
   "outputs": [],
   "source": [
    "import pandas as pd\n",
    "\n",
    "from tabular.pipeline import *\n",
    "from tabular.experiment import *\n",
    "from researcher.records import *\n",
    "\n",
    "import matplotlib.pyplot as plt"
   ]
  },
  {
   "cell_type": "code",
   "execution_count": 2,
   "metadata": {},
   "outputs": [],
   "source": [
    "# trn = pd.read_csv(\"data/train.csv\")"
   ]
  },
  {
   "cell_type": "code",
   "execution_count": 3,
   "metadata": {},
   "outputs": [],
   "source": [
    "# subset = trn.sample(3000).reset_index()"
   ]
  },
  {
   "cell_type": "code",
   "execution_count": 4,
   "metadata": {},
   "outputs": [],
   "source": [
    "def agg_proc(group_cols, agg_col, aggs, agg_names=None, fill_missing=False):\n",
    "    if agg_names:\n",
    "        if len(agg_names) != len(aggs):\n",
    "            raise ValueError(\"If custom names are provided, one name is required for each aggregation function. Received aggregations {}, names {}\".format(aggs, agg_names))\n",
    "    \n",
    "    def aggregated(df, trn_idx, targets):       \n",
    "        if agg_col in targets:\n",
    "            stats_df = df.iloc[trn_idx]\n",
    "            if not fill_missing:\n",
    "                for col in group_cols:\n",
    "                    if stats_df[col].nunique() < df[col].nunique():\n",
    "                        raise ValueError(\"{} values, {} for column {} exist in the training dataframe but not the validation dataframe. Ensure that the training dataframe covers all groups\".format(df[col].nunique() - stats_df[col].nunique(), set(df[col].unique()) - set(stats_df[col].unique()), col))\n",
    "                        \n",
    "        else:\n",
    "            stats_df = df\n",
    "\n",
    "        grouped = stats_df[group_cols + [agg_col]].groupby(group_cols)\n",
    "        \n",
    "        for i, agg in enumerate(aggs):\n",
    "            agg_name = agg_col + \"_\" + agg\n",
    "            agg = grouped.agg(agg)\n",
    "\n",
    "            if agg_names:\n",
    "                new_name = agg_names[i]\n",
    "            else:\n",
    "                new_name = \"-\".join(group_cols) + \"_wise_\" + agg_name\n",
    "                \n",
    "            agg = agg.rename({agg_col: new_name}, axis=1)\n",
    "            \n",
    "            df = pd.merge(df, agg, how=\"left\", on=group_cols, suffixes=(\"\", \"\"))\n",
    "            \n",
    "            if fill_missing:\n",
    "                df = df.fillna(df[new_name].mean())\n",
    "            \n",
    "        return df, None\n",
    "    \n",
    "    return aggregated"
   ]
  },
  {
   "cell_type": "code",
   "execution_count": 5,
   "metadata": {},
   "outputs": [],
   "source": [
    "PIPELINES[\"bid_mean_enc_reduce\"] = Pipeline(\n",
    "[\n",
    "    reduce_proc([\"building_id\", \"meter\", \"meter_reading\"]),\n",
    "    agg_proc([\"building_id\"], \"meter_reading\", [\"mean\"], fill_missing=True),\n",
    "    agg_proc([\"building_id\", \"meter\"], \"meter_reading\", [\"mean\", \"median\"], fill_missing=True), \n",
    "], [\"meter_reading\"])\n",
    "\n",
    "\n",
    "\n",
    "\n",
    "PIPELINES[\"log_drop\"] = Pipeline([\n",
    "    lambda df, idx, target: (df[df[\"meter_reading\"] < 30000].reset_index(), None),\n",
    "    target_log1n_proc,\n",
    "],\n",
    "[\"meter_reading\"])"
   ]
  },
  {
   "cell_type": "code",
   "execution_count": 6,
   "metadata": {},
   "outputs": [],
   "source": [
    "params = {\n",
    "    \"title\": \"test\",\n",
    "    \"notes\": \" some human readable sentence\",\n",
    "    \"model\": \"linear_reg\",\n",
    "    \"path\": \"data/train.csv\",\n",
    "    \"folds\": 5,\n",
    "    \"pipeline\": \"log_drop\",\n",
    "    \"fold_pipeline\": \"bid_mean_enc_reduce\",\n",
    "    \"metrics\": [\"mse\"],                                                       \n",
    "    \"x_cols\": [\"building_id_wise_meter_reading_mean\", \"building_id-meter_wise_meter_reading_mean\", \"building_id-meter_wise_meter_reading_median\", \"meter\"],\n",
    "    \"y_cols\": [\"meter_reading\"],\n",
    "}"
   ]
  },
  {
   "cell_type": "code",
   "execution_count": 7,
   "metadata": {},
   "outputs": [
    {
     "name": "stdout",
     "output_type": "stream",
     "text": [
      "running experiment ed6a4acbbc4ac3275f93406eadaa42b9\n",
      "\n",
      "--------- Starting fold 0 ---------\n",
      "--------- Starting fold 1 ---------\n",
      "--------- Starting fold 2 ---------\n",
      "--------- Starting fold 3 ---------\n",
      "--------- Starting fold 4 ---------\n"
     ]
    }
   ],
   "source": [
    "res = run_experiment(params, \"records/\")"
   ]
  },
  {
   "cell_type": "code",
   "execution_count": 8,
   "metadata": {},
   "outputs": [
    {
     "data": {
      "text/plain": [
       "array([717206.97358805])"
      ]
     },
     "execution_count": 8,
     "metadata": {},
     "output_type": "execute_result"
    }
   ],
   "source": [
    "res.get_fold_aggregated_metric(\"mse\", np.mean)"
   ]
  },
  {
   "cell_type": "code",
   "execution_count": 9,
   "metadata": {},
   "outputs": [
    {
     "data": {
      "text/plain": [
       "[[961878.0149828178],\n",
       " [384020.6545385493],\n",
       " [805673.0906446022],\n",
       " [657259.2199077584],\n",
       " [777203.8878665181]]"
      ]
     },
     "execution_count": 9,
     "metadata": {},
     "output_type": "execute_result"
    }
   ],
   "source": [
    "res.get_metric(\"mse\")"
   ]
  },
  {
   "cell_type": "code",
   "execution_count": null,
   "metadata": {},
   "outputs": [],
   "source": []
  },
  {
   "cell_type": "code",
   "execution_count": 10,
   "metadata": {},
   "outputs": [
    {
     "data": {
      "image/png": "[encoded data removed]",
      "text/plain": [
       "<Figure size 432x288 with 1 Axes>"
      ]
     },
     "metadata": {
      "needs_background": "light"
     },
     "output_type": "display_data"
    }
   ],
   "source": [
    "res = past_experiment_from_hash(\"records/\", \"43dcb5a96c86f411e65beba37a01e649\").results\n",
    "fig, ax = plt.subplots()\n",
    "ax.set_yscale(\"log\")\n",
    "\n",
    "\n",
    "for fold in res.get_metric(\"mse\"):\n",
    "    ax.scatter(0, np.array(fold))"
   ]
  },
  {
   "cell_type": "code",
   "execution_count": 11,
   "metadata": {},
   "outputs": [
    {
     "data": {
      "text/plain": [
       "-16.11809565095832"
      ]
     },
     "execution_count": 11,
     "metadata": {},
     "output_type": "execute_result"
    }
   ],
   "source": [
    "np.log(0.0000001)"
   ]
  },
  {
   "cell_type": "code",
   "execution_count": 12,
   "metadata": {},
   "outputs": [
    {
     "data": {
      "image/png": "[encoded data removed]",
      "text/plain": [
       "<Figure size 432x288 with 1 Axes>"
      ]
     },
     "metadata": {
      "needs_background": "light"
     },
     "output_type": "display_data"
    }
   ],
   "source": [
    "res = past_experiment_from_hash(\"records/\", \"6cdaf144eaab115080b6cb5404e3cbbe\").results\n",
    "fig, ax = plt.subplots()\n",
    "ax.set_yscale(\"log\")\n",
    "\n",
    "\n",
    "for fold in res.get_metric(\"mse\"):\n",
    "    ax.scatter(0, np.array(fold))"
   ]
  },
  {
   "cell_type": "code",
   "execution_count": null,
   "metadata": {},
   "outputs": [],
   "source": []
  }
 ],
 "metadata": {
  "kernelspec": {
   "display_name": "Python 3",
   "language": "python",
   "name": "python3"
  },
  "language_info": {
   "codemirror_mode": {
    "name": "ipython",
    "version": 3
   },
   "file_extension": ".py",
   "mimetype": "text/x-python",
   "name": "python",
   "nbconvert_exporter": "python",
   "pygments_lexer": "ipython3",
   "version": "3.7.5"
  }
 },
 "nbformat": 4,
 "nbformat_minor": 4
}
