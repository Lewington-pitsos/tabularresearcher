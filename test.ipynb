{
 "cells": [
  {
   "cell_type": "code",
   "execution_count": 1,
   "metadata": {},
   "outputs": [],
   "source": [
    "import pandas as pd\n",
    "\n",
    "from tabular.pipeline import *\n",
    "from tabular.experiments import *\n",
    "from researcher.records import *\n",
    "\n",
    "import matplotlib.pyplot as plt"
   ]
  },
  {
   "cell_type": "code",
   "execution_count": 17,
   "metadata": {},
   "outputs": [],
   "source": [
    "trn = pd.read_csv(\"data/train.csv\")\n"
   ]
  },
  {
   "cell_type": "code",
   "execution_count": 18,
   "metadata": {},
   "outputs": [],
   "source": [
    "subset = trn.sample(3000).reset_index()"
   ]
  },
  {
   "cell_type": "code",
   "execution_count": 2,
   "metadata": {},
   "outputs": [],
   "source": [
    "def agg_proc(group_cols, agg_col, aggs):\n",
    "    def aggregated(df, trn_idx, targets):\n",
    "        if agg_col in targets:\n",
    "            stats_df = df.iloc[trn_idx]\n",
    "        else:\n",
    "            stats_df = df\n",
    "\n",
    "        grouped = stats_df[group_cols + [agg_col]].groupby(group_cols)\n",
    "        \n",
    "        for agg in aggs:\n",
    "            agg_name = agg_col + \"_\" + agg\n",
    "            agg = grouped.agg(agg)\n",
    "            print(agg)\n",
    "            agg = agg.rename({agg_col: \"-\".join(group_cols) + \"_wise_\" + agg_name}, axis=1)\n",
    "            print(agg)\n",
    "\n",
    "            merge = pd.merge(df, agg, on=group_cols, suffixes=(\"\", \"\"))\n",
    "            \n",
    "        return merge, trn_idx\n",
    "    \n",
    "    return aggregated"
   ]
  },
  {
   "cell_type": "code",
   "execution_count": 3,
   "metadata": {},
   "outputs": [],
   "source": [
    "bid_mean_enc = agg_proc([\"building_id\"], \"meter_reading\", [\"mean\"])\n",
    "bid_meter_mean_enc = agg_proc([\"building_id\", \"meter\"], \"meter_reading\", [\"mean\"])"
   ]
  },
  {
   "cell_type": "code",
   "execution_count": 6,
   "metadata": {},
   "outputs": [],
   "source": [
    "PIPELINES[\"bid_mean_enc\"] = Pipeline([bid_mean_enc, bid_meter_mean_enc], [])"
   ]
  },
  {
   "cell_type": "code",
   "execution_count": 7,
   "metadata": {},
   "outputs": [],
   "source": [
    "params = {\n",
    "    \"title\": \"test\",\n",
    "    \"notes\": \" some human readable sentence\",\n",
    "    \"experiment\": \"linear_reg\",\n",
    "    \"data_name\": \"data/train.csv\",\n",
    "    \"folds\": 5,\n",
    "    \"pipeline\": \"bid_mean_enc\",\n",
    "    \"metrics\": [\"mse\"],\n",
    "    \"x_cols\": [\"building_id_wise_meter_reading_mean\", \"building_id-meter_wise_meter_reading_mean\", \"meter\"],\n",
    "    \"y_cols\": [\"meter_reading\"],\n",
    "}"
   ]
  },
  {
   "cell_type": "code",
   "execution_count": 8,
   "metadata": {},
   "outputs": [
    {
     "name": "stdout",
     "output_type": "stream",
     "text": [
      "             meter_reading\n",
      "building_id               \n",
      "0               146.454978\n",
      "1                74.865393\n",
      "2                14.551385\n",
      "3               235.549966\n",
      "4               976.556746\n",
      "...                    ...\n",
      "1444              7.482127\n",
      "1445              4.732815\n",
      "1446              3.592162\n",
      "1447            187.117994\n",
      "1448              3.338595\n",
      "\n",
      "[1449 rows x 1 columns]\n",
      "             building_id_wise_meter_reading_mean\n",
      "building_id                                     \n",
      "0                                     146.454978\n",
      "1                                      74.865393\n",
      "2                                      14.551385\n",
      "3                                     235.549966\n",
      "4                                     976.556746\n",
      "...                                          ...\n",
      "1444                                    7.482127\n",
      "1445                                    4.732815\n",
      "1446                                    3.592162\n",
      "1447                                  187.117994\n",
      "1448                                    3.338595\n",
      "\n",
      "[1449 rows x 1 columns]\n",
      "                   meter_reading\n",
      "building_id meter               \n",
      "0           0         146.454978\n",
      "1           0          74.865393\n",
      "2           0          14.551385\n",
      "3           0         235.549966\n",
      "4           0         976.556746\n",
      "...                          ...\n",
      "1444        0           7.482127\n",
      "1445        0           4.732815\n",
      "1446        0           3.592162\n",
      "1447        0         187.117994\n",
      "1448        0           3.338595\n",
      "\n",
      "[2380 rows x 1 columns]\n",
      "                   building_id-meter_wise_meter_reading_mean\n",
      "building_id meter                                           \n",
      "0           0                                     146.454978\n",
      "1           0                                      74.865393\n",
      "2           0                                      14.551385\n",
      "3           0                                     235.549966\n",
      "4           0                                     976.556746\n",
      "...                                                      ...\n",
      "1444        0                                       7.482127\n",
      "1445        0                                       4.732815\n",
      "1446        0                                       3.592162\n",
      "1447        0                                     187.117994\n",
      "1448        0                                       3.338595\n",
      "\n",
      "[2380 rows x 1 columns]\n",
      "             meter_reading\n",
      "building_id               \n",
      "0               146.454978\n",
      "1                74.865393\n",
      "2                14.551385\n",
      "3               235.549966\n",
      "4               976.556746\n",
      "...                    ...\n",
      "1444              7.482127\n",
      "1445              4.732815\n",
      "1446              3.592162\n",
      "1447            187.117994\n",
      "1448              3.338595\n",
      "\n",
      "[1449 rows x 1 columns]\n",
      "             building_id_wise_meter_reading_mean\n",
      "building_id                                     \n",
      "0                                     146.454978\n",
      "1                                      74.865393\n",
      "2                                      14.551385\n",
      "3                                     235.549966\n",
      "4                                     976.556746\n",
      "...                                          ...\n",
      "1444                                    7.482127\n",
      "1445                                    4.732815\n",
      "1446                                    3.592162\n",
      "1447                                  187.117994\n",
      "1448                                    3.338595\n",
      "\n",
      "[1449 rows x 1 columns]\n",
      "                   meter_reading\n",
      "building_id meter               \n",
      "0           0         146.454978\n",
      "1           0          74.865393\n",
      "2           0          14.551385\n",
      "3           0         235.549966\n",
      "4           0         976.556746\n",
      "...                          ...\n",
      "1444        0           7.482127\n",
      "1445        0           4.732815\n",
      "1446        0           3.592162\n",
      "1447        0         187.117994\n",
      "1448        0           3.338595\n",
      "\n",
      "[2380 rows x 1 columns]\n",
      "                   building_id-meter_wise_meter_reading_mean\n",
      "building_id meter                                           \n",
      "0           0                                     146.454978\n",
      "1           0                                      74.865393\n",
      "2           0                                      14.551385\n",
      "3           0                                     235.549966\n",
      "4           0                                     976.556746\n",
      "...                                                      ...\n",
      "1444        0                                       7.482127\n",
      "1445        0                                       4.732815\n",
      "1446        0                                       3.592162\n",
      "1447        0                                     187.117994\n",
      "1448        0                                       3.338595\n",
      "\n",
      "[2380 rows x 1 columns]\n",
      "             meter_reading\n",
      "building_id               \n",
      "0               146.454978\n",
      "1                74.865393\n",
      "2                14.551385\n",
      "3               235.549966\n",
      "4               976.556746\n",
      "...                    ...\n",
      "1444              7.482127\n",
      "1445              4.732815\n",
      "1446              3.592162\n",
      "1447            187.117994\n",
      "1448              3.338595\n",
      "\n",
      "[1449 rows x 1 columns]\n",
      "             building_id_wise_meter_reading_mean\n",
      "building_id                                     \n",
      "0                                     146.454978\n",
      "1                                      74.865393\n",
      "2                                      14.551385\n",
      "3                                     235.549966\n",
      "4                                     976.556746\n",
      "...                                          ...\n",
      "1444                                    7.482127\n",
      "1445                                    4.732815\n",
      "1446                                    3.592162\n",
      "1447                                  187.117994\n",
      "1448                                    3.338595\n",
      "\n",
      "[1449 rows x 1 columns]\n",
      "                   meter_reading\n",
      "building_id meter               \n",
      "0           0         146.454978\n",
      "1           0          74.865393\n",
      "2           0          14.551385\n",
      "3           0         235.549966\n",
      "4           0         976.556746\n",
      "...                          ...\n",
      "1444        0           7.482127\n",
      "1445        0           4.732815\n",
      "1446        0           3.592162\n",
      "1447        0         187.117994\n",
      "1448        0           3.338595\n",
      "\n",
      "[2380 rows x 1 columns]\n",
      "                   building_id-meter_wise_meter_reading_mean\n",
      "building_id meter                                           \n",
      "0           0                                     146.454978\n",
      "1           0                                      74.865393\n",
      "2           0                                      14.551385\n",
      "3           0                                     235.549966\n",
      "4           0                                     976.556746\n",
      "...                                                      ...\n",
      "1444        0                                       7.482127\n",
      "1445        0                                       4.732815\n",
      "1446        0                                       3.592162\n",
      "1447        0                                     187.117994\n",
      "1448        0                                       3.338595\n",
      "\n",
      "[2380 rows x 1 columns]\n",
      "             meter_reading\n",
      "building_id               \n",
      "0               146.454978\n",
      "1                74.865393\n",
      "2                14.551385\n",
      "3               235.549966\n",
      "4               976.556746\n",
      "...                    ...\n",
      "1444              7.482127\n",
      "1445              4.732815\n",
      "1446              3.592162\n",
      "1447            187.117994\n",
      "1448              3.338595\n",
      "\n",
      "[1449 rows x 1 columns]\n",
      "             building_id_wise_meter_reading_mean\n",
      "building_id                                     \n",
      "0                                     146.454978\n",
      "1                                      74.865393\n",
      "2                                      14.551385\n",
      "3                                     235.549966\n",
      "4                                     976.556746\n",
      "...                                          ...\n",
      "1444                                    7.482127\n",
      "1445                                    4.732815\n",
      "1446                                    3.592162\n",
      "1447                                  187.117994\n",
      "1448                                    3.338595\n",
      "\n",
      "[1449 rows x 1 columns]\n",
      "                   meter_reading\n",
      "building_id meter               \n",
      "0           0         146.454978\n",
      "1           0          74.865393\n",
      "2           0          14.551385\n",
      "3           0         235.549966\n",
      "4           0         976.556746\n",
      "...                          ...\n",
      "1444        0           7.482127\n",
      "1445        0           4.732815\n",
      "1446        0           3.592162\n",
      "1447        0         187.117994\n",
      "1448        0           3.338595\n",
      "\n",
      "[2380 rows x 1 columns]\n",
      "                   building_id-meter_wise_meter_reading_mean\n",
      "building_id meter                                           \n",
      "0           0                                     146.454978\n",
      "1           0                                      74.865393\n",
      "2           0                                      14.551385\n",
      "3           0                                     235.549966\n",
      "4           0                                     976.556746\n",
      "...                                                      ...\n",
      "1444        0                                       7.482127\n",
      "1445        0                                       4.732815\n",
      "1446        0                                       3.592162\n",
      "1447        0                                     187.117994\n",
      "1448        0                                       3.338595\n",
      "\n",
      "[2380 rows x 1 columns]\n"
     ]
    },
    {
     "name": "stdout",
     "output_type": "stream",
     "text": [
      "             meter_reading\n",
      "building_id               \n",
      "0               146.454978\n",
      "1                74.865393\n",
      "2                14.551385\n",
      "3               235.549966\n",
      "4               976.556746\n",
      "...                    ...\n",
      "1444              7.482127\n",
      "1445              4.732815\n",
      "1446              3.592162\n",
      "1447            187.117994\n",
      "1448              3.338595\n",
      "\n",
      "[1449 rows x 1 columns]\n",
      "             building_id_wise_meter_reading_mean\n",
      "building_id                                     \n",
      "0                                     146.454978\n",
      "1                                      74.865393\n",
      "2                                      14.551385\n",
      "3                                     235.549966\n",
      "4                                     976.556746\n",
      "...                                          ...\n",
      "1444                                    7.482127\n",
      "1445                                    4.732815\n",
      "1446                                    3.592162\n",
      "1447                                  187.117994\n",
      "1448                                    3.338595\n",
      "\n",
      "[1449 rows x 1 columns]\n",
      "                   meter_reading\n",
      "building_id meter               \n",
      "0           0         146.454978\n",
      "1           0          74.865393\n",
      "2           0          14.551385\n",
      "3           0         235.549966\n",
      "4           0         976.556746\n",
      "...                          ...\n",
      "1444        0           7.482127\n",
      "1445        0           4.732815\n",
      "1446        0           3.592162\n",
      "1447        0         187.117994\n",
      "1448        0           3.338595\n",
      "\n",
      "[2380 rows x 1 columns]\n",
      "                   building_id-meter_wise_meter_reading_mean\n",
      "building_id meter                                           \n",
      "0           0                                     146.454978\n",
      "1           0                                      74.865393\n",
      "2           0                                      14.551385\n",
      "3           0                                     235.549966\n",
      "4           0                                     976.556746\n",
      "...                                                      ...\n",
      "1444        0                                       7.482127\n",
      "1445        0                                       4.732815\n",
      "1446        0                                       3.592162\n",
      "1447        0                                     187.117994\n",
      "1448        0                                       3.338595\n",
      "\n",
      "[2380 rows x 1 columns]\n"
     ]
    }
   ],
   "source": [
    "res = run_experiment(params, \"records/\")"
   ]
  },
  {
   "cell_type": "code",
   "execution_count": null,
   "metadata": {},
   "outputs": [],
   "source": []
  },
  {
   "cell_type": "code",
   "execution_count": 10,
   "metadata": {},
   "outputs": [
    {
     "data": {
      "text/plain": [
       "[[128761.22000527076],\n",
       " [10353.177066869473],\n",
       " [54047464.93658471],\n",
       " [85748242963.67863],\n",
       " [708384.7359607856]]"
      ]
     },
     "execution_count": 10,
     "metadata": {},
     "output_type": "execute_result"
    }
   ],
   "source": [
    "res.get_metric(\"mse\")"
   ]
  },
  {
   "cell_type": "code",
   "execution_count": 14,
   "metadata": {},
   "outputs": [
    {
     "data": {
      "image/png": "[encoded data removed]",
      "text/plain": [
       "<Figure size 432x288 with 1 Axes>"
      ]
     },
     "metadata": {
      "needs_background": "light"
     },
     "output_type": "display_data"
    }
   ],
   "source": [
    "res = past_experiment_from_hash(\"records/\", \"ec82757157dc\").results\n",
    "fig, ax = plt.subplots()\n",
    "ax.set_yscale(\"log\")\n",
    "\n",
    "\n",
    "for fold in res.get_metric(\"mse\"):\n",
    "    ax.scatter(0, fold)"
   ]
  },
  {
   "cell_type": "code",
   "execution_count": 12,
   "metadata": {},
   "outputs": [
    {
     "data": {
      "image/png": "[encoded data removed]",
      "text/plain": [
       "<Figure size 432x288 with 1 Axes>"
      ]
     },
     "metadata": {
      "needs_background": "light"
     },
     "output_type": "display_data"
    }
   ],
   "source": [
    "res = past_experiment_from_hash(\"records/\", \"262dc6ffbad\").results\n",
    "fig, ax = plt.subplots()\n",
    "ax.set_yscale(\"log\")\n",
    "\n",
    "\n",
    "for fold in res.get_metric(\"mse\"):\n",
    "    ax.scatter(0, fold)"
   ]
  },
  {
   "cell_type": "code",
   "execution_count": 4,
   "metadata": {},
   "outputs": [
    {
     "data": {
      "text/plain": [
       "[[18899806900.366104],\n",
       " [65922637417.14631],\n",
       " [29483771984.313713],\n",
       " [73728779.50177501],\n",
       " [3029002638.4022694]]"
      ]
     },
     "execution_count": 4,
     "metadata": {},
     "output_type": "execute_result"
    }
   ],
   "source": []
  },
  {
   "cell_type": "code",
   "execution_count": 9,
   "metadata": {},
   "outputs": [
    {
     "data": {
      "image/png": "[encoded data removed]",
      "text/plain": [
       "<Figure size 432x288 with 1 Axes>"
      ]
     },
     "metadata": {
      "needs_background": "light"
     },
     "output_type": "display_data"
    }
   ],
   "source": [
    "\n",
    "\n",
    "_, ax = plt.subplots()\n",
    "for fold in res.results.get_metric(\"mse\"):\n",
    "    ax.scatter(0, fold)"
   ]
  },
  {
   "cell_type": "code",
   "execution_count": null,
   "metadata": {},
   "outputs": [],
   "source": []
  }
 ],
 "metadata": {
  "kernelspec": {
   "display_name": "Python 3",
   "language": "python",
   "name": "python3"
  },
  "language_info": {
   "codemirror_mode": {
    "name": "ipython",
    "version": 3
   },
   "file_extension": ".py",
   "mimetype": "text/x-python",
   "name": "python",
   "nbconvert_exporter": "python",
   "pygments_lexer": "ipython3",
   "version": "3.7.5"
  }
 },
 "nbformat": 4,
 "nbformat_minor": 4
}
