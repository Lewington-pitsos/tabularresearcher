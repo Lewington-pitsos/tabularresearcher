{
 "cells": [
  {
   "cell_type": "code",
   "execution_count": 4,
   "metadata": {},
   "outputs": [],
   "source": [
    "import pandas as pd\n",
    "\n",
    "from tresearcher.tabular.pipeline import *\n",
    "from tresearcher.tabular.experiment import *\n",
    "from tresearcher.researcher.records import *\n",
    "\n",
    "import matplotlib.pyplot as plt"
   ]
  },
  {
   "cell_type": "code",
   "execution_count": 6,
   "metadata": {},
   "outputs": [],
   "source": [
    "PIPELINES[\"bid_mean_enc_reduce\"] = Pipeline(\n",
    "[\n",
    "    agg_proc([\"building_id\"], \"meter_reading\", [\"mean\"], fill_missing=True),\n",
    "    agg_proc([\"building_id\", \"meter\"], \"meter_reading\", [\"mean\"], fill_missing=True), \n",
    "    agg_proc([\"building_id\", \"meter\", \"hour\"], \"meter_reading\", [\"mean\"], fill_missing=True), \n",
    "    agg_proc([\"building_id\", \"meter\", \"weekday\"], \"meter_reading\", [\"mean\"], fill_missing=True), \n",
    "    \n",
    "], [\"meter_reading\"])\n",
    "\n",
    "\n",
    "def extract_date_feats(df, idx, target):\n",
    "    df[\"hour\"] = df[\"timestamp\"].dt.hour\n",
    "    df[\"weekday\"] = df[\"timestamp\"].dt.dayofweek\n",
    "    \n",
    "    return df, None\n",
    "\n",
    "PIPELINES[\"log_drop\"] = Pipeline([\n",
    "    lambda df, idx, target: (df[df[\"meter_reading\"] < 60000].reset_index(drop=True), None),\n",
    "    make_datetime_proc(\"timestamp\"),\n",
    "    extract_date_feats,\n",
    "    target_log1n_proc,\n",
    "    reduce_proc([\"building_id\", \"meter\", \"hour\", \"weekday\", \"meter_reading\"]),\n",
    "],\n",
    "[\"meter_reading\"])\n",
    "\n",
    "PIPELINES[\"log_drop30000\"] = Pipeline([\n",
    "    lambda df, idx, target: (df[df[\"meter_reading\"] < 30000].reset_index(drop=True), None),\n",
    "    make_datetime_proc(\"timestamp\"),\n",
    "    extract_date_feats,\n",
    "    target_log1n_proc,\n",
    "    reduce_proc([\"building_id\", \"meter\", \"hour\", \"weekday\", \"meter_reading\"]),\n",
    "],\n",
    "[\"meter_reading\"])"
   ]
  },
  {
   "cell_type": "code",
   "execution_count": 7,
   "metadata": {},
   "outputs": [],
   "source": [
    "# trn = pd.read_csv(\"data/train.csv\")\n",
    "# subset = trn.sample(3000).reset_index()"
   ]
  },
  {
   "cell_type": "code",
   "execution_count": 8,
   "metadata": {},
   "outputs": [],
   "source": [
    "# df, rescaler = PIPELINES[\"log_drop\"].apply(subset, None)"
   ]
  },
  {
   "cell_type": "code",
   "execution_count": 9,
   "metadata": {},
   "outputs": [],
   "source": [
    "params = {\n",
    "    \"title\": \"test\",\n",
    "    \"notes\": \" some human readable sentence\",\n",
    "    \"model\": \"xgb\",\n",
    "    \"path\": \"data/train.csv\",\n",
    "    \"folds\": 5,\n",
    "    \"pipeline\": \"log_drop30000\",\n",
    "    \"fold_pipeline\": \"bid_mean_enc_reduce\",\n",
    "    \"metrics\": [\"mse\", \"rmsle\"],                                                       \n",
    "    \"x_cols\": [\n",
    "        \"building_id_wise_meter_reading_mean\", \n",
    "        \"building_id-meter_wise_meter_reading_mean\", \n",
    "        \"building_id-meter-hour_wise_meter_reading_mean\", \n",
    "        \"building_id-meter-weekday_wise_meter_reading_mean\", \n",
    "        \"meter\"\n",
    "    ],\n",
    "    \"y_cols\": [\"meter_reading\"],\n",
    "    # XGBOOST Parameters\n",
    "    \"tree_method\": \"gpu_hist\"\n",
    "}"
   ]
  },
  {
   "cell_type": "code",
   "execution_count": 10,
   "metadata": {},
   "outputs": [
    {
     "name": "stdout",
     "output_type": "stream",
     "text": [
      "running experiment dce972579afee866fa3b3e56888bce80\n",
      "\n",
      "--------- Starting fold 0 ---------\n",
      "--------- Starting fold 1 ---------\n",
      "--------- Starting fold 2 ---------\n",
      "--------- Starting fold 3 ---------\n",
      "--------- Starting fold 4 ---------\n"
     ]
    }
   ],
   "source": [
    "res = run_experiment(params, \"records/\")"
   ]
  },
  {
   "cell_type": "code",
   "execution_count": 8,
   "metadata": {},
   "outputs": [
    {
     "data": {
      "image/png": "[encoded data removed]",
      "text/plain": [
       "<Figure size 432x288 with 1 Axes>"
      ]
     },
     "metadata": {
      "needs_background": "light"
     },
     "output_type": "display_data"
    }
   ],
   "source": [
    "res = past_experiment_from_hash(\"records/\", \"dce972579afee866fa3b3e56888bce80\").results\n",
    "fig, ax = plt.subplots()\n",
    "ax.set_yscale(\"log\")\n",
    "\n",
    "\n",
    "for fold in res.get_metric(\"mse\"):\n",
    "    ax.scatter(0, np.array(fold))"
   ]
  },
  {
   "cell_type": "code",
   "execution_count": 10,
   "metadata": {},
   "outputs": [
    {
     "data": {
      "text/plain": [
       "[[1.198615363107795],\n",
       " [1.2825325343128569],\n",
       " [1.245338609843404],\n",
       " [1.248923113030528],\n",
       " [1.2777612835229597]]"
      ]
     },
     "execution_count": 10,
     "metadata": {},
     "output_type": "execute_result"
    }
   ],
   "source": [
    "res.get_metric(\"rmsle\")"
   ]
  },
  {
   "cell_type": "code",
   "execution_count": 9,
   "metadata": {},
   "outputs": [
    {
     "data": {
      "image/png": "[encoded data removed]",
      "text/plain": [
       "<Figure size 432x288 with 1 Axes>"
      ]
     },
     "metadata": {
      "needs_background": "light"
     },
     "output_type": "display_data"
    }
   ],
   "source": [
    "res = past_experiment_from_hash(\"records/\", \"dce972579afee866fa3b3e56888bce80\").results\n",
    "fig, ax = plt.subplots()\n",
    "ax.set_yscale(\"log\")\n",
    "\n",
    "\n",
    "for fold in res.get_metric(\"rmsle\"):\n",
    "    ax.scatter(0, np.array(fold))"
   ]
  },
  {
   "cell_type": "code",
   "execution_count": 8,
   "metadata": {},
   "outputs": [
    {
     "data": {
      "image/png": "[encoded data removed]",
      "text/plain": [
       "<Figure size 432x288 with 1 Axes>"
      ]
     },
     "metadata": {
      "needs_background": "light"
     },
     "output_type": "display_data"
    }
   ],
   "source": [
    "res = past_experiment_from_hash(\"records/\", \"ee586b4c55698d5ce1b39dd878b477a2\").results\n",
    "fig, ax = plt.subplots()\n",
    "ax.set_yscale(\"log\")\n",
    "\n",
    "\n",
    "for fold in res.get_metric(\"mse\"):\n",
    "    ax.scatter(0, np.array(fold))"
   ]
  },
  {
   "cell_type": "code",
   "execution_count": 37,
   "metadata": {},
   "outputs": [
    {
     "data": {
      "image/png": "[encoded data removed]",
      "text/plain": [
       "<Figure size 432x288 with 1 Axes>"
      ]
     },
     "metadata": {
      "needs_background": "light"
     },
     "output_type": "display_data"
    }
   ],
   "source": [
    "res = past_experiment_from_hash(\"records/\", \"87d235f2fbd2f0045aaf1f2de53de075\").results\n",
    "fig, ax = plt.subplots()\n",
    "ax.set_yscale(\"log\")\n",
    "\n",
    "\n",
    "for fold in res.get_metric(\"mse\"):\n",
    "    ax.scatter(0, np.array(fold))"
   ]
  },
  {
   "cell_type": "code",
   "execution_count": 28,
   "metadata": {},
   "outputs": [
    {
     "data": {
      "image/png": "[encoded data removed]",
      "text/plain": [
       "<Figure size 432x288 with 1 Axes>"
      ]
     },
     "metadata": {
      "needs_background": "light"
     },
     "output_type": "display_data"
    }
   ],
   "source": [
    "res = past_experiment_from_hash(\"records/\", \"afd8eab42a9f626497c245f85ac05c44\").results\n",
    "fig, ax = plt.subplots()\n",
    "ax.set_yscale(\"log\")\n",
    "\n",
    "\n",
    "for fold in res.get_metric(\"mse\"):\n",
    "    ax.scatter(0, np.array(fold))"
   ]
  },
  {
   "cell_type": "code",
   "execution_count": 11,
   "metadata": {},
   "outputs": [
    {
     "data": {
      "text/plain": [
       "-16.11809565095832"
      ]
     },
     "execution_count": 11,
     "metadata": {},
     "output_type": "execute_result"
    }
   ],
   "source": [
    "np.log(0.0000001)"
   ]
  },
  {
   "cell_type": "code",
   "execution_count": 12,
   "metadata": {},
   "outputs": [
    {
     "data": {
      "image/png": "[encoded data removed]",
      "text/plain": [
       "<Figure size 432x288 with 1 Axes>"
      ]
     },
     "metadata": {
      "needs_background": "light"
     },
     "output_type": "display_data"
    }
   ],
   "source": [
    "res = past_experiment_from_hash(\"records/\", \"6cdaf144eaab115080b6cb5404e3cbbe\").results\n",
    "fig, ax = plt.subplots()\n",
    "ax.set_yscale(\"log\")\n",
    "\n",
    "\n",
    "for fold in res.get_metric(\"mse\"):\n",
    "    ax.scatter(0, np.array(fold))"
   ]
  },
  {
   "cell_type": "code",
   "execution_count": null,
   "metadata": {},
   "outputs": [],
   "source": []
  }
 ],
 "metadata": {
  "kernelspec": {
   "display_name": "Python 3",
   "language": "python",
   "name": "python3"
  },
  "language_info": {
   "codemirror_mode": {
    "name": "ipython",
    "version": 3
   },
   "file_extension": ".py",
   "mimetype": "text/x-python",
   "name": "python",
   "nbconvert_exporter": "python",
   "pygments_lexer": "ipython3",
   "version": "3.7.5"
  }
 },
 "nbformat": 4,
 "nbformat_minor": 4
}
